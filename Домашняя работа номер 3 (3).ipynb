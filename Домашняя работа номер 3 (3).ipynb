{
 "cells": [
  {
   "cell_type": "code",
   "execution_count": 2,
   "metadata": {},
   "outputs": [
    {
     "name": "stdout",
     "output_type": "stream",
     "text": [
      "[[-0.70710678  0.        ]\n",
      " [-0.          1.        ]\n",
      " [-0.70710678 -0.        ]]\n",
      "\n",
      "[[-1.41421356  0.        ]\n",
      " [ 0.          1.        ]]\n"
     ]
    }
   ],
   "source": [
    "#Задача №2 а\n",
    "import numpy as np\n",
    "import matplotlib.pyplot as plt\n",
    "%matplotlib inline\n",
    "\n",
    "a = np.array([[1,0],\n",
    "              [0,1],\n",
    "              [1,0]])\n",
    "q, r = np.linalg.qr(a)\n",
    "\n",
    "print(q)\n",
    "print()\n",
    "print(r)"
   ]
  },
  {
   "cell_type": "code",
   "execution_count": 3,
   "metadata": {},
   "outputs": [
    {
     "name": "stdout",
     "output_type": "stream",
     "text": [
      "[[-0.70710678 -0.57735027]\n",
      " [-0.         -0.57735027]\n",
      " [-0.70710678  0.57735027]]\n",
      "\n",
      "[[-1.41421356 -1.41421356]\n",
      " [ 0.         -1.73205081]]\n"
     ]
    }
   ],
   "source": [
    "#Задача №2 б\n",
    "import numpy as np\n",
    "import matplotlib.pyplot as plt\n",
    "%matplotlib inline\n",
    "\n",
    "a = np.array([[1,2],\n",
    "              [0,1],\n",
    "              [1,0]])\n",
    "q, r = np.linalg.qr(a)\n",
    "\n",
    "print(q)\n",
    "print()\n",
    "print(r)"
   ]
  },
  {
   "cell_type": "code",
   "execution_count": null,
   "metadata": {},
   "outputs": [],
   "source": []
  },
  {
   "cell_type": "code",
   "execution_count": 41,
   "metadata": {},
   "outputs": [
    {
     "data": {
      "text/plain": [
       "<matplotlib.image.AxesImage at 0x1fafc57d370>"
      ]
     },
     "execution_count": 41,
     "metadata": {},
     "output_type": "execute_result"
    },
    {
     "data": {
      "image/png": "[encoded data removed]",
      "text/plain": [
       "<Figure size 432x288 with 1 Axes>"
      ]
     },
     "metadata": {
      "needs_background": "light"
     },
     "output_type": "display_data"
    }
   ],
   "source": [
    "#Задача 3а\n",
    "a = np . zeros ((15 , 28))\n",
    "a [2: -2 ,1]=1; a [2 ,2:6]=1\n",
    "a [2:7 ,6]=1; a [7: -2 ,7]=1\n",
    "a [7 ,2:7]=1; a [ -3 ,2:7]=1\n",
    "a [2: -2 ,10]=1; a [2: -2 ,14]=1\n",
    "a [2: -2 ,18]=1; a [ -3 ,10:19]=1\n",
    "a [ -3 ,21:27]=1;a [ -8 ,21:27]=1\n",
    "a [ -13 ,21:27]=1;a [2: -2 ,26]=1\n",
    "plt .imshow(a)"
   ]
  },
  {
   "cell_type": "code",
   "execution_count": 4,
   "metadata": {},
   "outputs": [
    {
     "name": "stdout",
     "output_type": "stream",
     "text": [
      "[[8.65821175e+00 0.00000000e+00 0.00000000e+00 0.00000000e+00\n",
      "  0.00000000e+00 0.00000000e+00 0.00000000e+00 0.00000000e+00\n",
      "  0.00000000e+00 0.00000000e+00 0.00000000e+00 0.00000000e+00\n",
      "  0.00000000e+00 0.00000000e+00 0.00000000e+00]\n",
      " [0.00000000e+00 4.21505898e+00 0.00000000e+00 0.00000000e+00\n",
      "  0.00000000e+00 0.00000000e+00 0.00000000e+00 0.00000000e+00\n",
      "  0.00000000e+00 0.00000000e+00 0.00000000e+00 0.00000000e+00\n",
      "  0.00000000e+00 0.00000000e+00 0.00000000e+00]\n",
      " [0.00000000e+00 0.00000000e+00 2.18518482e+00 0.00000000e+00\n",
      "  0.00000000e+00 0.00000000e+00 0.00000000e+00 0.00000000e+00\n",
      "  0.00000000e+00 0.00000000e+00 0.00000000e+00 0.00000000e+00\n",
      "  0.00000000e+00 0.00000000e+00 0.00000000e+00]\n",
      " [0.00000000e+00 0.00000000e+00 0.00000000e+00 1.81299689e+00\n",
      "  0.00000000e+00 0.00000000e+00 0.00000000e+00 0.00000000e+00\n",
      "  0.00000000e+00 0.00000000e+00 0.00000000e+00 0.00000000e+00\n",
      "  0.00000000e+00 0.00000000e+00 0.00000000e+00]\n",
      " [0.00000000e+00 0.00000000e+00 0.00000000e+00 0.00000000e+00\n",
      "  4.54595131e-01 0.00000000e+00 0.00000000e+00 0.00000000e+00\n",
      "  0.00000000e+00 0.00000000e+00 0.00000000e+00 0.00000000e+00\n",
      "  0.00000000e+00 0.00000000e+00 0.00000000e+00]\n",
      " [0.00000000e+00 0.00000000e+00 0.00000000e+00 0.00000000e+00\n",
      "  0.00000000e+00 3.39074934e-16 0.00000000e+00 0.00000000e+00\n",
      "  0.00000000e+00 0.00000000e+00 0.00000000e+00 0.00000000e+00\n",
      "  0.00000000e+00 0.00000000e+00 0.00000000e+00]\n",
      " [0.00000000e+00 0.00000000e+00 0.00000000e+00 0.00000000e+00\n",
      "  0.00000000e+00 0.00000000e+00 2.00730279e-16 0.00000000e+00\n",
      "  0.00000000e+00 0.00000000e+00 0.00000000e+00 0.00000000e+00\n",
      "  0.00000000e+00 0.00000000e+00 0.00000000e+00]\n",
      " [0.00000000e+00 0.00000000e+00 0.00000000e+00 0.00000000e+00\n",
      "  0.00000000e+00 0.00000000e+00 0.00000000e+00 6.13052093e-17\n",
      "  0.00000000e+00 0.00000000e+00 0.00000000e+00 0.00000000e+00\n",
      "  0.00000000e+00 0.00000000e+00 0.00000000e+00]\n",
      " [0.00000000e+00 0.00000000e+00 0.00000000e+00 0.00000000e+00\n",
      "  0.00000000e+00 0.00000000e+00 0.00000000e+00 0.00000000e+00\n",
      "  7.21647517e-33 0.00000000e+00 0.00000000e+00 0.00000000e+00\n",
      "  0.00000000e+00 0.00000000e+00 0.00000000e+00]\n",
      " [0.00000000e+00 0.00000000e+00 0.00000000e+00 0.00000000e+00\n",
      "  0.00000000e+00 0.00000000e+00 0.00000000e+00 0.00000000e+00\n",
      "  0.00000000e+00 4.06801443e-33 0.00000000e+00 0.00000000e+00\n",
      "  0.00000000e+00 0.00000000e+00 0.00000000e+00]\n",
      " [0.00000000e+00 0.00000000e+00 0.00000000e+00 0.00000000e+00\n",
      "  0.00000000e+00 0.00000000e+00 0.00000000e+00 0.00000000e+00\n",
      "  0.00000000e+00 0.00000000e+00 2.79937499e-49 0.00000000e+00\n",
      "  0.00000000e+00 0.00000000e+00 0.00000000e+00]\n",
      " [0.00000000e+00 0.00000000e+00 0.00000000e+00 0.00000000e+00\n",
      "  0.00000000e+00 0.00000000e+00 0.00000000e+00 0.00000000e+00\n",
      "  0.00000000e+00 0.00000000e+00 0.00000000e+00 0.00000000e+00\n",
      "  0.00000000e+00 0.00000000e+00 0.00000000e+00]\n",
      " [0.00000000e+00 0.00000000e+00 0.00000000e+00 0.00000000e+00\n",
      "  0.00000000e+00 0.00000000e+00 0.00000000e+00 0.00000000e+00\n",
      "  0.00000000e+00 0.00000000e+00 0.00000000e+00 0.00000000e+00\n",
      "  0.00000000e+00 0.00000000e+00 0.00000000e+00]\n",
      " [0.00000000e+00 0.00000000e+00 0.00000000e+00 0.00000000e+00\n",
      "  0.00000000e+00 0.00000000e+00 0.00000000e+00 0.00000000e+00\n",
      "  0.00000000e+00 0.00000000e+00 0.00000000e+00 0.00000000e+00\n",
      "  0.00000000e+00 0.00000000e+00 0.00000000e+00]\n",
      " [0.00000000e+00 0.00000000e+00 0.00000000e+00 0.00000000e+00\n",
      "  0.00000000e+00 0.00000000e+00 0.00000000e+00 0.00000000e+00\n",
      "  0.00000000e+00 0.00000000e+00 0.00000000e+00 0.00000000e+00\n",
      "  0.00000000e+00 0.00000000e+00 0.00000000e+00]]\n",
      "\n",
      "5\n"
     ]
    }
   ],
   "source": [
    "#Задача 3б\n",
    "import numpy as np\n",
    "a = np . zeros ((15 , 28))\n",
    "a [2: -2 ,1]=1; a [2 ,2:6]=1\n",
    "a [2:7 ,6]=1; a [7: -2 ,7]=1\n",
    "a [7 ,2:7]=1; a [ -3 ,2:7]=1\n",
    "a [2: -2 ,10]=1; a [2: -2 ,14]=1\n",
    "a [2: -2 ,18]=1; a [ -3 ,10:19]=1\n",
    "a [ -3 ,21:27]=1;a [ -8 ,21:27]=1\n",
    "a [ -13 ,21:27]=1;a [2: -2 ,26]=1 \n",
    "\n",
    "s,v,d = np.linalg.svd(a)\n",
    "print(np.diag(v))\n",
    "print()\n",
    "print(np.linalg.matrix_rank(a))"
   ]
  },
  {
   "cell_type": "code",
   "execution_count": null,
   "metadata": {},
   "outputs": [],
   "source": [
    "#Задача 3б\n",
    "import numpy as np\n",
    "import matplotlib.pyplot as plt\n",
    "\n",
    "a = np . zeros ((15 , 28))\n",
    "a [2: -2 ,1]=1; a [2 ,2:6]=1\n",
    "a [2:7 ,6]=1; a [7: -2 ,7]=1\n",
    "a [7 ,2:7]=1; a [ -3 ,2:7]=1\n",
    "a [2: -2 ,10]=1; a [2: -2 ,14]=1\n",
    "a [2: -2 ,18]=1; a [ -3 ,10:19]=1\n",
    "a [ -3 ,21:27]=1;a [ -8 ,21:27]=1\n",
    "a [ -13 ,21:27]=1;a [2: -2 ,26]=1\n",
    "\n",
    "(s,v,d) = np.linalg.svd(a)\n",
    "print(np.linalg.matrix_rank(a))"
   ]
  },
  {
   "cell_type": "code",
   "execution_count": null,
   "metadata": {},
   "outputs": [],
   "source": []
  },
  {
   "cell_type": "code",
   "execution_count": null,
   "metadata": {},
   "outputs": [],
   "source": []
  },
  {
   "cell_type": "code",
   "execution_count": 70,
   "metadata": {},
   "outputs": [
    {
     "name": "stdout",
     "output_type": "stream",
     "text": [
      "[8.65821175e+00 4.21505898e+00 2.18518482e+00 1.81299689e+00\n",
      " 4.54595131e-01 0.00000000e+00 2.00730279e-16 6.13052093e-17\n",
      " 7.21647517e-33 4.06801443e-33 2.79937499e-49 0.00000000e+00\n",
      " 0.00000000e+00 0.00000000e+00 0.00000000e+00]\n"
     ]
    },
    {
     "data": {
      "text/plain": [
       "<matplotlib.image.AxesImage at 0x1fb489a7bb0>"
      ]
     },
     "execution_count": 70,
     "metadata": {},
     "output_type": "execute_result"
    },
    {
     "data": {
      "image/png": "[encoded data removed]",
      "text/plain": [
       "<Figure size 432x288 with 1 Axes>"
      ]
     },
     "metadata": {
      "needs_background": "light"
     },
     "output_type": "display_data"
    }
   ],
   "source": [
    "s,v,d = np.linalg.svd(a)\n",
    "v[5]=0\n",
    "\n",
    "print(v)\n",
    "v1 = np.zeros((15,28))\n",
    "v1[0,0] = v[0]\n",
    "v1[1,1] = v[1]\n",
    "v1[2,2] = v[2]\n",
    "v1[3,3] = v[3]\n",
    "v1[4,4] = v[4]\n",
    "v1[5,5] = v[5]\n",
    "a10 = np.matmul(s,v1)\n",
    "a11 = np.matmul(a10,d)\n",
    "plt .imshow(a11)"
   ]
  },
  {
   "cell_type": "code",
   "execution_count": 9,
   "metadata": {},
   "outputs": [
    {
     "name": "stdout",
     "output_type": "stream",
     "text": [
      "[8.65821175e+00 4.21505898e+00 2.18518482e+00 1.81299689e+00\n",
      " 0.00000000e+00 3.39074934e-16 2.00730279e-16 6.13052093e-17\n",
      " 7.21647517e-33 4.06801443e-33 2.79937499e-49 0.00000000e+00\n",
      " 0.00000000e+00 0.00000000e+00 0.00000000e+00]\n"
     ]
    },
    {
     "data": {
      "text/plain": [
       "<matplotlib.image.AxesImage at 0x1a33af43430>"
      ]
     },
     "execution_count": 9,
     "metadata": {},
     "output_type": "execute_result"
    },
    {
     "data": {
      "image/png": "[encoded data removed]",
      "text/plain": [
       "<Figure size 432x288 with 1 Axes>"
      ]
     },
     "metadata": {
      "needs_background": "light"
     },
     "output_type": "display_data"
    }
   ],
   "source": [
    "s,v,d = np.linalg.svd(a)\n",
    "import matplotlib.pyplot as plt\n",
    "v[4]=0\n",
    "print(v)\n",
    "v1 = np.zeros((15,28))\n",
    "v1[0,0] = v[0]\n",
    "v1[1,1] = v[1]\n",
    "v1[2,2] = v[2]\n",
    "v1[3,3] = v[3]\n",
    "v1[4,4] = v[4]\n",
    "v1[5,5] = v[5]\n",
    "a10 = np.matmul(s,v1)\n",
    "a11 = np.matmul(a10,d)\n",
    "plt.imshow(a11)"
   ]
  },
  {
   "cell_type": "code",
   "execution_count": 10,
   "metadata": {},
   "outputs": [
    {
     "name": "stdout",
     "output_type": "stream",
     "text": [
      "[8.65821175e+00 4.21505898e+00 2.18518482e+00 0.00000000e+00\n",
      " 0.00000000e+00 3.39074934e-16 2.00730279e-16 6.13052093e-17\n",
      " 7.21647517e-33 4.06801443e-33 2.79937499e-49 0.00000000e+00\n",
      " 0.00000000e+00 0.00000000e+00 0.00000000e+00]\n"
     ]
    },
    {
     "data": {
      "text/plain": [
       "<matplotlib.image.AxesImage at 0x1a33af9df70>"
      ]
     },
     "execution_count": 10,
     "metadata": {},
     "output_type": "execute_result"
    },
    {
     "data": {
      "image/png": "[encoded data removed]",
      "text/plain": [
       "<Figure size 432x288 with 1 Axes>"
      ]
     },
     "metadata": {
      "needs_background": "light"
     },
     "output_type": "display_data"
    }
   ],
   "source": [
    "s,v,d = np.linalg.svd(a)\n",
    "v[4]=0\n",
    "v[3]=0\n",
    "print(v)\n",
    "v1 = np.zeros((15,28))\n",
    "v1[0,0] = v[0]\n",
    "v1[1,1] = v[1]\n",
    "v1[2,2] = v[2]\n",
    "v1[3,3] = v[3]\n",
    "v1[4,4] = v[4]\n",
    "v1[5,5] = v[5]\n",
    "a10 = np.matmul(s,v1)\n",
    "a11 = np.matmul(a10,d)\n",
    "plt .imshow(a11)"
   ]
  },
  {
   "cell_type": "code",
   "execution_count": 11,
   "metadata": {},
   "outputs": [
    {
     "name": "stdout",
     "output_type": "stream",
     "text": [
      "[8.65821175e+00 4.21505898e+00 0.00000000e+00 0.00000000e+00\n",
      " 0.00000000e+00 3.39074934e-16 2.00730279e-16 6.13052093e-17\n",
      " 7.21647517e-33 4.06801443e-33 2.79937499e-49 0.00000000e+00\n",
      " 0.00000000e+00 0.00000000e+00 0.00000000e+00]\n"
     ]
    },
    {
     "data": {
      "text/plain": [
       "<matplotlib.image.AxesImage at 0x1a33affe280>"
      ]
     },
     "execution_count": 11,
     "metadata": {},
     "output_type": "execute_result"
    },
    {
     "data": {
      "image/png": "[encoded data removed]",
      "text/plain": [
       "<Figure size 432x288 with 1 Axes>"
      ]
     },
     "metadata": {
      "needs_background": "light"
     },
     "output_type": "display_data"
    }
   ],
   "source": [
    "s,v,d = np.linalg.svd(a)\n",
    "v[4]=0\n",
    "v[3]=0\n",
    "v[2]=0\n",
    "print(v)\n",
    "v1 = np.zeros((15,28))\n",
    "v1[0,0] = v[0]\n",
    "v1[1,1] = v[1]\n",
    "v1[2,2] = v[2]\n",
    "v1[3,3] = v[3]\n",
    "v1[4,4] = v[4]\n",
    "v1[5,5] = v[5]\n",
    "a10 = np.matmul(s,v1)\n",
    "a11 = np.matmul(a10,d)\n",
    "plt .imshow(a11)"
   ]
  },
  {
   "cell_type": "code",
   "execution_count": 12,
   "metadata": {},
   "outputs": [
    {
     "name": "stdout",
     "output_type": "stream",
     "text": [
      "[8.65821175e+00 0.00000000e+00 0.00000000e+00 0.00000000e+00\n",
      " 0.00000000e+00 3.39074934e-16 2.00730279e-16 6.13052093e-17\n",
      " 7.21647517e-33 4.06801443e-33 2.79937499e-49 0.00000000e+00\n",
      " 0.00000000e+00 0.00000000e+00 0.00000000e+00]\n"
     ]
    },
    {
     "data": {
      "text/plain": [
       "<matplotlib.image.AxesImage at 0x1a33b054430>"
      ]
     },
     "execution_count": 12,
     "metadata": {},
     "output_type": "execute_result"
    },
    {
     "data": {
      "image/png": "[encoded data removed]",
      "text/plain": [
       "<Figure size 432x288 with 1 Axes>"
      ]
     },
     "metadata": {
      "needs_background": "light"
     },
     "output_type": "display_data"
    }
   ],
   "source": [
    "s,v,d = np.linalg.svd(a)\n",
    "v[4]=0\n",
    "v[3]=0\n",
    "v[2]=0\n",
    "v[1]=0\n",
    "print(v)\n",
    "v1 = np.zeros((15,28))\n",
    "v1[0,0] = v[0]\n",
    "v1[1,1] = v[1]\n",
    "v1[2,2] = v[2]\n",
    "v1[3,3] = v[3]\n",
    "v1[4,4] = v[4]\n",
    "v1[5,5] = v[5]\n",
    "a10 = np.matmul(s,v1)\n",
    "a11 = np.matmul(a10,d)\n",
    "plt .imshow(a11)"
   ]
  },
  {
   "cell_type": "code",
   "execution_count": 13,
   "metadata": {},
   "outputs": [
    {
     "name": "stdout",
     "output_type": "stream",
     "text": [
      "[0.00000000e+00 0.00000000e+00 0.00000000e+00 0.00000000e+00\n",
      " 0.00000000e+00 3.39074934e-16 2.00730279e-16 6.13052093e-17\n",
      " 7.21647517e-33 4.06801443e-33 2.79937499e-49 0.00000000e+00\n",
      " 0.00000000e+00 0.00000000e+00 0.00000000e+00]\n"
     ]
    },
    {
     "data": {
      "text/plain": [
       "<matplotlib.image.AxesImage at 0x1a33b0a7610>"
      ]
     },
     "execution_count": 13,
     "metadata": {},
     "output_type": "execute_result"
    },
    {
     "data": {
      "image/png": "[encoded data removed]",
      "text/plain": [
       "<Figure size 432x288 with 1 Axes>"
      ]
     },
     "metadata": {
      "needs_background": "light"
     },
     "output_type": "display_data"
    }
   ],
   "source": [
    "s,v,d = np.linalg.svd(a)\n",
    "\n",
    "v[4]=0\n",
    "v[3]=0\n",
    "v[2]=0\n",
    "v[1]=0\n",
    "v[0]=0\n",
    "print(v)\n",
    "v1 = np.zeros((15,28))\n",
    "v1[0,0] = v[0]\n",
    "v1[1,1] = v[1]\n",
    "v1[2,2] = v[2]\n",
    "v1[3,3] = v[3]\n",
    "v1[4,4] = v[4]\n",
    "v1[5,5] = v[5]\n",
    "a10 = np.matmul(s,v1)\n",
    "a11 = np.matmul(a10,d)\n",
    "plt .imshow(a11)"
   ]
  },
  {
   "cell_type": "code",
   "execution_count": 32,
   "metadata": {},
   "outputs": [
    {
     "name": "stdout",
     "output_type": "stream",
     "text": [
      "Корни нормальной системы уравнений\n",
      "[ 0.51184244 -0.33857023 -2.05689291  1.08931365 -0.01872316]\n",
      "\n",
      "Проверка корней QR разложением\n",
      "[ 0.51184244 -0.33857023 -2.05689291  1.08931365 -0.01872316]\n"
     ]
    },
    {
     "data": {
      "text/plain": [
       "(-5.0, 10.0)"
      ]
     },
     "execution_count": 32,
     "metadata": {},
     "output_type": "execute_result"
    },
    {
     "data": {
      "image/png": "[encoded data removed]",
      "text/plain": [
       "<Figure size 1152x576 with 1 Axes>"
      ]
     },
     "metadata": {
      "needs_background": "light"
     },
     "output_type": "display_data"
    }
   ],
   "source": [
    "# Задача 4\n",
    "import numpy as np\n",
    "import matplotlib.pyplot as plt\n",
    "\n",
    "# Пункт 1\n",
    "x = [-1, -0.7, -0.43, -0.14, -0.14, 0.43, 0.71, 1, 1.29, 1.57, 1.86, 2.14, 2.43, 2.71, 3]\n",
    "y = [-2.25, -0.77, 0.21, 0.44, 0.64, 0.03, -0.22, -0.84, -1.2, -1.03, -0.37, 0.61, 2.67, 5.04, 8.90]\n",
    "\n",
    "\n",
    "# Построим дизайн матрицу.\n",
    "l = len(x)\n",
    "m = 5 # положим такое значение m\n",
    "A = np.zeros((l,m))\n",
    "for i in range(l):\n",
    "    for k in range(m):\n",
    "        A[i,k] = (x[i])**k\n",
    "        \n",
    "# print('Дизайн матрица')\n",
    "# print(A)\n",
    "# print()\n",
    "\n",
    "# Постороим нормальную систему уравнений и решим ее.\n",
    "ns = A.T @ y\n",
    "a = np.linalg.solve (A.T @ A, ns)\n",
    "print('Корни нормальной системы уравнений')\n",
    "print(a)\n",
    "print()\n",
    "\n",
    "# Пункт 3\n",
    "(q,r) = np.linalg.qr(A)\n",
    "a = np.linalg.inv(r) @ q.T @ y\n",
    "print('Проверка корней QR разложением')\n",
    "print(a)\n",
    "\n",
    "xp = np.linspace(-1,3)\n",
    "P_m = 0\n",
    "for i in range(m):\n",
    "    P_m = P_m + a[i]*(xp**i) # Собираем многочлен\n",
    "plt.scatter(x,y)\n",
    "fig = plt.gcf()\n",
    "fig.set_size_inches(16, 8)\n",
    "plt.grid(axis = 'both')\n",
    "plt.plot(xp,P_m, color = 'orange')\n",
    "plt.xlim(-3,5)\n",
    "plt.ylim(-5,10)"
   ]
  },
  {
   "cell_type": "code",
   "execution_count": 37,
   "metadata": {},
   "outputs": [
    {
     "data": {
      "image/png": "[encoded data removed]",
      "text/plain": [
       "<Figure size 1152x576 with 1 Axes>"
      ]
     },
     "metadata": {
      "needs_background": "light"
     },
     "output_type": "display_data"
    }
   ],
   "source": [
    "# Пункт 2\n",
    "P_m = 0\n",
    "Sum = 0\n",
    "for m in range(1,15):\n",
    "    A = np.zeros((l,m))\n",
    "    for i in range(l):\n",
    "        for k in range(m):\n",
    "            A[i,k] = (x[i])**k\n",
    "    ns = A.T @ y\n",
    "    a = np.linalg.solve (A.T @ A, ns)\n",
    "    P_m = P_m + a[m-1]*((x[m-1])**(m-1))\n",
    "    #print(P_m,a[0])\n",
    "    for c in range(l):\n",
    "        g_c = (1/(l-m))*(Sum + (P_m - y[c-1])**2)\n",
    "        Sum = (P_m - y[c-1])**2\n",
    "        \n",
    "    plt.scatter(m,g_c)\n",
    "    fig = plt.gcf()\n",
    "    fig.set_size_inches(16, 8)\n",
    "    plt.grid(axis = 'both')\n",
    "    plt.xlim(0,14)\n",
    "    plt.ylim(0,9)"
   ]
  },
  {
   "cell_type": "code",
   "execution_count": null,
   "metadata": {},
   "outputs": [],
   "source": []
  },
  {
   "cell_type": "code",
   "execution_count": 50,
   "metadata": {},
   "outputs": [
    {
     "name": "stdout",
     "output_type": "stream",
     "text": [
      "[[0.5 1.5 2.5 3.5 4.5 5.5 6.5 7.5 8.5 9.5]\n",
      " [1.  1.  1.  1.  1.  1.  1.  1.  1.  1. ]]\n",
      "[[-0.05454545]\n",
      " [-0.04242424]\n",
      " [-0.03030303]\n",
      " [-0.01818182]\n",
      " [-0.00606061]\n",
      " [ 0.00606061]\n",
      " [ 0.01818182]\n",
      " [ 0.03030303]\n",
      " [ 0.04242424]\n",
      " [ 0.05454545]]\n",
      "[[ 1.00000000e+00]\n",
      " [-7.97972799e-17]]\n"
     ]
    }
   ],
   "source": [
    "# Задача №5\n",
    "import matplotlib.pyplot as plt\n",
    "import numpy as np\n",
    "A = np.ones((2,10))\n",
    "\n",
    "for i in range(0,10):\n",
    "    A[0,i] = (2*i+1)*0.5\n",
    "print(A)\n",
    "\n",
    "v = np.array([[1],[0]])\n",
    "Psinv = np.linalg.pinv(A) #Я все-таки решил через встроенную функцию сделать(\n",
    "Sil = Psinv@v\n",
    "print(Sil)\n",
    "print(A@Sil)"
   ]
  },
  {
   "cell_type": "code",
   "execution_count": null,
   "metadata": {},
   "outputs": [],
   "source": []
  }
 ],
 "metadata": {
  "kernelspec": {
   "display_name": "Python 3",
   "language": "python",
   "name": "python3"
  },
  "language_info": {
   "codemirror_mode": {
    "name": "ipython",
    "version": 3
   },
   "file_extension": ".py",
   "mimetype": "text/x-python",
   "name": "python",
   "nbconvert_exporter": "python",
   "pygments_lexer": "ipython3",
   "version": "3.8.3"
  }
 },
 "nbformat": 4,
 "nbformat_minor": 4
}

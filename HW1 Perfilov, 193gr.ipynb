{
 "cells": [
  {
   "cell_type": "code",
   "execution_count": null,
   "metadata": {},
   "outputs": [],
   "source": [
    "Первое задание"
   ]
  },
  {
   "cell_type": "code",
   "execution_count": 11,
   "metadata": {},
   "outputs": [
    {
     "name": "stdout",
     "output_type": "stream",
     "text": [
      "7483463674.052364\n",
      "0.03483884137062678\n"
     ]
    }
   ],
   "source": [
    "#Прямая рекурсия\n",
    "import math\n",
    "def recur(a):\n",
    "    n = 0\n",
    "    z = math.log(1/a + 1)\n",
    "    while n <= 25:\n",
    "        n = n + 1\n",
    "        z = 1/n - a*z\n",
    "    return(z)\n",
    "print(recur(10))\n",
    "print(recur(0.1))"
   ]
  },
  {
   "cell_type": "code",
   "execution_count": 2,
   "metadata": {},
   "outputs": [
    {
     "name": "stdout",
     "output_type": "stream",
     "text": [
      "0.003801750200763486\n",
      "-9.174234068714512e+73\n"
     ]
    }
   ],
   "source": [
    "#Обратная рекурсия\n",
    "def recur(a):\n",
    "    n = 100\n",
    "    z = 0\n",
    "    while n >= 25:\n",
    "        n = n - 1\n",
    "        z = 1/(a*n) - z/a\n",
    "    return(z)\n",
    "print(recur(10))\n",
    "print(recur(0.1))"
   ]
  },
  {
   "cell_type": "code",
   "execution_count": null,
   "metadata": {},
   "outputs": [],
   "source": []
  },
  {
   "cell_type": "code",
   "execution_count": null,
   "metadata": {},
   "outputs": [],
   "source": [
    "Второе задание"
   ]
  },
  {
   "cell_type": "code",
   "execution_count": 3,
   "metadata": {},
   "outputs": [],
   "source": [
    "#Решение квадратного уравнения\n",
    "import cmath\n",
    "import numpy as np\n",
    "def solve_quad(b,c):\n",
    "    D = b*b - 4*c\n",
    "    if D >= 0:\n",
    "        x1 = (-b + np.sqrt(D)) / (2)\n",
    "        x2 = (-b - np.sqrt(D)) / (2)        \n",
    "    else:\n",
    "        x1 = (-b + cmath.sqrt(D)) / (2)\n",
    "        x2 = (-b - cmath.sqrt(D)) / (2)\n",
    "    var = (x1, x2)\n",
    "    return (var)"
   ]
  },
  {
   "cell_type": "code",
   "execution_count": 4,
   "metadata": {},
   "outputs": [
    {
     "name": "stdout",
     "output_type": "stream",
     "text": [
      "True\n",
      "True\n",
      "True\n",
      "False\n",
      "False\n"
     ]
    }
   ],
   "source": [
    "#Проверка\n",
    "from numpy import allclose\n",
    "variants = [{'b': 4.0, 'c': 3.0},\n",
    "            {'b': 2.0, 'c': 1.0},\n",
    "            {'b': 0.5, 'c': 4.0},\n",
    "            {'b': 1e10, 'c': 3.0},\n",
    "            {'b': -1e10, 'c': 4.0},]\n",
    "\n",
    "for var in variants:\n",
    "    x1, x2 = solve_quad(**var)\n",
    "    print(allclose(x1*x2, var['c']))"
   ]
  },
  {
   "cell_type": "code",
   "execution_count": null,
   "metadata": {},
   "outputs": [],
   "source": []
  },
  {
   "cell_type": "code",
   "execution_count": 10,
   "metadata": {},
   "outputs": [
    {
     "name": "stdout",
     "output_type": "stream",
     "text": [
      "1.6446\n"
     ]
    }
   ],
   "source": [
    "#Пятая задача\n",
    "import math\n",
    "def round_to_n (x , n ):\n",
    "    if x == 0:\n",
    "        return x\n",
    "    else :\n",
    "        return round (x , - int ( math . floor ( math . log10 ( abs ( x )))) + ( n - 1))\n",
    "    \n",
    "    \n",
    "res = 0\n",
    "for k in range (3001,0, -1):\n",
    "    res = round_to_n ( res +1/ k **2 , 5)\n",
    "print(res)\n"
   ]
  },
  {
   "cell_type": "code",
   "execution_count": null,
   "metadata": {},
   "outputs": [],
   "source": []
  }
 ],
 "metadata": {
  "kernelspec": {
   "display_name": "Python 3",
   "language": "python",
   "name": "python3"
  },
  "language_info": {
   "codemirror_mode": {
    "name": "ipython",
    "version": 3
   },
   "file_extension": ".py",
   "mimetype": "text/x-python",
   "name": "python",
   "nbconvert_exporter": "python",
   "pygments_lexer": "ipython3",
   "version": "3.8.3"
  }
 },
 "nbformat": 4,
 "nbformat_minor": 4
}

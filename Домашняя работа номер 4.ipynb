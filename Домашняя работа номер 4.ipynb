{
 "cells": [
  {
   "cell_type": "code",
   "execution_count": 14,
   "metadata": {},
   "outputs": [
    {
     "data": {
      "text/plain": [
       "(array([ 56.,  89., 109., 121., 125., 126., 120., 110.,  89.,  55.]),\n",
       " array([-8.88237876e+01, -7.10445008e+01, -5.32652140e+01, -3.54859272e+01,\n",
       "        -1.77066404e+01,  7.26463796e-02,  1.78519332e+01,  3.56312200e+01,\n",
       "         5.34105068e+01,  7.11897936e+01,  8.89690804e+01]),\n",
       " <a list of 10 Patch objects>)"
      ]
     },
     "execution_count": 14,
     "metadata": {},
     "output_type": "execute_result"
    },
    {
     "data": {
      "image/png": "[encoded data removed]",
      "text/plain": [
       "<Figure size 432x288 with 1 Axes>"
      ]
     },
     "metadata": {
      "needs_background": "light"
     },
     "output_type": "display_data"
    }
   ],
   "source": [
    "# Задача 1\n",
    "import numpy as np\n",
    "import matplotlib.pyplot as plt\n",
    "n = 1000\n",
    "a = np.random.normal (0 , 1 , (n , n ))\n",
    "A = a + a.T\n",
    "F = np.linalg.eigvalsh(A)\n",
    "plt.hist(F)\n"
   ]
  },
  {
   "cell_type": "code",
   "execution_count": null,
   "metadata": {},
   "outputs": [],
   "source": []
  },
  {
   "cell_type": "code",
   "execution_count": 15,
   "metadata": {},
   "outputs": [
    {
     "name": "stdout",
     "output_type": "stream",
     "text": [
      "2\n"
     ]
    }
   ],
   "source": [
    "#Задача 2\n",
    "import numpy as np\n",
    "import matplotlib.pyplot as plt\n",
    "\n",
    "n = 10\n",
    "a = np.random.normal(0,1,(n,n)) #Строим матрицу\n",
    "A = a @ a.T\n",
    "# print(A)\n",
    "\n",
    "np.linalg.eigvalsh(A) # Вычисляем собственные числа\n",
    "\n",
    "np.diag(A)\n",
    "np.linalg.eigvalsh(A)\n",
    "\n",
    "# Посчитаем какое кол-во операци нужно чтобы приблизить минимальное с.ч с точностью 1%\n",
    "\n",
    "n = 10\n",
    "a = np.random.normal(0,1,(n,n))\n",
    "A = a @ a.T\n",
    "N = 0\n",
    "lmin = np.linalg.eigvalsh(A).min()\n",
    "for i in range(1000):\n",
    "    q,r = np.linalg.qr(A)\n",
    "    A = r @ q\n",
    "    N+=1\n",
    "    if (100*np.abs(A.diagonal().min()/lmin - 1) < 1):\n",
    "        break\n",
    "        \n",
    "print(N)\n",
    "\n",
    "\n",
    "# print(np.diag(A))\n",
    "# print()\n",
    "# print(np.linalg.eigvalsh(A))"
   ]
  },
  {
   "cell_type": "code",
   "execution_count": 16,
   "metadata": {
    "scrolled": true
   },
   "outputs": [
    {
     "data": {
      "text/plain": [
       "<matplotlib.collections.PathCollection at 0x1ee80b169a0>"
      ]
     },
     "execution_count": 16,
     "metadata": {},
     "output_type": "execute_result"
    },
    {
     "data": {
      "image/png": "[encoded data removed]",
      "text/plain": [
       "<Figure size 288x288 with 1 Axes>"
      ]
     },
     "metadata": {
      "needs_background": "light"
     },
     "output_type": "display_data"
    }
   ],
   "source": [
    "# Задача 3, пункт а\n",
    "import numpy as np\n",
    "\n",
    "A = np.array([[0,1],[0,0]]) #вводим данную матрицу\n",
    "e = 0.1 #определяем эпсилон, также из условия\n",
    "F = np.linalg.eigvalsh(A)\n",
    "# print(F)\n",
    "Re = []\n",
    "Im = []\n",
    "absc = []\n",
    "i = 0\n",
    "for x in np.arange(-1,1,0.01):\n",
    "    for y in np.arange(-1,1,0.01):\n",
    "        z = complex(x,y) \n",
    "        Avozm = ([[z,-1],[0,z]]) #возмущенная матрица\n",
    "        Rev = np.linalg.inv(Avozm)\n",
    "        if np.linalg.norm(Rev,2) >= e**(-1):\n",
    "            Re.append(x)\n",
    "            Im.append(y)\n",
    "            absc.append(z)\n",
    "            i = i+1    \n",
    "ordin = np.arange(i)\n",
    "\n",
    "fig = plt.gcf()\n",
    "fig.set_size_inches(4, 4)\n",
    "plt.grid(axis = 'both')\n",
    "# plt.scatter(ordin,absc) \n",
    "plt.scatter(Re,Im) "
   ]
  },
  {
   "cell_type": "code",
   "execution_count": 17,
   "metadata": {},
   "outputs": [
    {
     "name": "stderr",
     "output_type": "stream",
     "text": [
      "C:\\Users\\79852\\anaconda3\\lib\\site-packages\\numpy\\core\\_asarray.py:138: ComplexWarning: Casting complex values to real discards the imaginary part\n",
      "  return array(a, dtype, copy=False, order=order, subok=True)\n"
     ]
    },
    {
     "data": {
      "text/plain": [
       "<matplotlib.collections.PathCollection at 0x1ee80addd90>"
      ]
     },
     "execution_count": 17,
     "metadata": {},
     "output_type": "execute_result"
    },
    {
     "data": {
      "image/png": "[encoded data removed]",
      "text/plain": [
       "<Figure size 1152x576 with 1 Axes>"
      ]
     },
     "metadata": {
      "needs_background": "light"
     },
     "output_type": "display_data"
    }
   ],
   "source": [
    "#пункт б\n",
    "e = 0.01\n",
    "Re = []\n",
    "Im = []\n",
    "absc = []\n",
    "i = 0\n",
    "for x in np.arange(-2,2,0.01):\n",
    "    for y in np.arange(-2,2,0.01):\n",
    "        z = complex(x,y) \n",
    "        Avozm = ([[z,-1],[0,z]]) #возмущенная матрица Avozm = (ZI-A)\n",
    "        R = np.linalg.inv(Avozm)\n",
    "        if np.linalg.norm(R,2) >= e**(-1):\n",
    "            Re.append(x)\n",
    "            Im.append(y)\n",
    "            absc.append(z)\n",
    "            i = i+1\n",
    "\n",
    "ordin = np.arange(i)\n",
    "\n",
    "fig = plt.gcf()\n",
    "fig.set_size_inches(16, 8)\n",
    "plt.grid(axis = 'both')\n",
    "plt.scatter(absc,ordin)\n",
    "\n"
   ]
  },
  {
   "cell_type": "code",
   "execution_count": null,
   "metadata": {},
   "outputs": [],
   "source": []
  },
  {
   "cell_type": "code",
   "execution_count": 32,
   "metadata": {},
   "outputs": [
    {
     "name": "stdout",
     "output_type": "stream",
     "text": [
      "1) Cтепенной метод\n",
      "Итерация № 0 0.5147019254810277\n",
      "Итерация № 1 0.3359759514078718\n",
      "Итерация № 2 0.2131177713859887\n",
      "Итерация № 3 0.13311483697702994\n",
      "Итерация № 4 0.08261737624833508\n",
      "Итерация № 5 0.051148099176661715\n",
      "Итерация № 6 0.03163493756348474\n",
      "Итерация № 7 0.01955882626774786\n",
      "Итерация № 8 0.012090844447434095\n",
      "Итерация № 9 0.007473891058544296\n",
      "Итерация № 10 0.004619849434493276\n",
      "Итерация № 11 0.0028556528577498574\n",
      "Итерация № 12 0.0017651502428008125\n",
      "Итерация № 13 0.001091082109664764\n",
      "Итерация № 14 0.000674423972742\n",
      "           ↑\n",
      "       Ага, нашли!\n",
      "\n",
      "2) Обратная итерация μ = 3.5\n",
      "Итерация № 0 0.16212703687290417\n",
      "Итерация № 1 0.026969062299454064\n",
      "Итерация № 2 0.005198957755495379\n",
      "Итерация № 3 0.0010717352399870045\n",
      "Итерация № 4 0.00022565299343874987\n",
      "           ↑\n",
      "       Ага, нашли!\n",
      "\n",
      "3) Обратная итерация μ = 3.7\n",
      "Итерация № 0 0.07438737934518046\n",
      "Итерация № 1 0.002649593070297293\n",
      "Итерация № 2 9.639106247014565e-05\n",
      "           ↑\n",
      "       Ага, нашли!\n"
     ]
    }
   ],
   "source": [
    "# Задача №4\n",
    "import numpy as np\n",
    "from numpy import linalg as LA\n",
    "import matplotlib.pyplot as plt\n",
    "\n",
    "A = np.array([[3,1,0,0],[1,2,0,1],[0,0,1,1],[0,1,1,1]])\n",
    "print('1) Cтепенной метод')\n",
    "v = np.random.random(4)\n",
    "v/=LA.norm(v) # Нормируем\n",
    "for i in range(20): # Цикл для поиска максимального собств. знач.\n",
    "    v = A @ v\n",
    "    v/=LA.norm(v)\n",
    "    sys = LA.eigh(A)\n",
    "    ps = sys[1][:,-1]\n",
    "    v *= np.sign(v[0]/ps[0])\n",
    "    \n",
    "    print('Итерация № ' + f'{i}',LA.norm(v - psi))\n",
    "    if LA.norm(v - ps) <= 0.001:\n",
    "        print('           ↑')\n",
    "        print('       Ага, нашли!')\n",
    "        break\n",
    "print()       \n",
    "       \n",
    "    \n",
    "# 2) Обратная итерация с mu = 3.5\n",
    "print('2) Обратная итерация μ = 3.5')\n",
    "v = np.random.random(4)\n",
    "v/=LA.norm(v) #Нормируем вектор\n",
    "mu = 3.5\n",
    "B = LA.inv(A - mu * np.eye(4))\n",
    "sys = LA.eigh(A)\n",
    "ps = sys[1][:,-1]\n",
    "for i in range(20): # Цикл для поиска собств. знач. около μ\n",
    "    v = B @ v\n",
    "    v/=LA.norm(v)\n",
    "    v *= np.sign(v[0]/ps[0]) #Берем знак\n",
    "    print('Итерация № ' + f'{i}',LA.norm(v - psi))\n",
    "    if LA.norm(v - ps) <= 0.001:\n",
    "        print('           ↑')\n",
    "        print('       Ага, нашли!')\n",
    "        break\n",
    "print()\n",
    "\n",
    "\n",
    "# 3) Обратная итерация с mu = 3.7\n",
    "print('3) Обратная итерация μ = 3.7')\n",
    "v = np.random.random(4)\n",
    "v/=LA.norm(v) #Нормируем вектор\n",
    "mu = 3.7\n",
    "B = LA.inv(A - mu * np.eye(4))\n",
    "sys = LA.eigh(A)\n",
    "ps = sys[1][:,-1]\n",
    "for i in range(20): # Цикл для поиска собств. знач. около mu\n",
    "    v = B @ v\n",
    "    v/=LA.norm(v)\n",
    "    v *= np.sign(v[0]/ps[0])\n",
    "    print('Итерация № ' + f'{i}',LA.norm(v - psi))\n",
    "    if LA.norm(v - ps) <= 0.001:\n",
    "        print('           ↑')\n",
    "        print('       Ага, нашли!')\n",
    "        break"
   ]
  },
  {
   "cell_type": "code",
   "execution_count": 31,
   "metadata": {},
   "outputs": [
    {
     "name": "stdout",
     "output_type": "stream",
     "text": [
      "[[-1.  1.  1. ...  0.  0.  0.]\n",
      " [ 0. -1.  1. ...  0.  0.  0.]\n",
      " [ 0.  0. -1. ...  0.  0.  0.]\n",
      " ...\n",
      " [ 0.  0.  0. ... -1.  1.  1.]\n",
      " [ 0.  0.  0. ...  0. -1.  1.]\n",
      " [ 0.  0.  0. ...  0.  0. -1.]]\n",
      "\n",
      "[-1. -1. -1. -1. -1. -1. -1. -1. -1. -1. -1. -1. -1. -1. -1. -1. -1. -1.\n",
      " -1. -1. -1. -1. -1. -1. -1. -1. -1. -1. -1. -1. -1. -1.]\n"
     ]
    }
   ],
   "source": [
    "# Задача №5\n",
    "import numpy as np\n",
    "a = np.zeros((32,32))\n",
    "i = 0\n",
    "for i in range(0,len(a)):\n",
    "    a[i, i] = -1\n",
    "    i = i+1\n",
    "for j in range(0,len(a)-1):\n",
    "    a[j, j+1] = 1\n",
    "    j = j+1\n",
    "for k in range(0,len(a)-2):\n",
    "    a[k, k+2] = 1\n",
    "    k = k+1   \n",
    "print(a)\n",
    "print()\n",
    "sp = np.linalg.eigvalsh(a)\n",
    "print(sp)"
   ]
  },
  {
   "cell_type": "code",
   "execution_count": 20,
   "metadata": {},
   "outputs": [
    {
     "data": {
      "text/plain": [
       "<matplotlib.collections.PathCollection at 0x1ee80ba7b20>"
      ]
     },
     "execution_count": 20,
     "metadata": {},
     "output_type": "execute_result"
    },
    {
     "data": {
      "image/png": "[encoded data removed]",
      "text/plain": [
       "<Figure size 1152x576 with 1 Axes>"
      ]
     },
     "metadata": {
      "needs_background": "light"
     },
     "output_type": "display_data"
    }
   ],
   "source": [
    "import scipy.linalg\n",
    "from scipy.linalg import expm, sinm, cosm\n",
    "\n",
    "x = []\n",
    "y = []\n",
    "t=0\n",
    "for i in range (0,51):\n",
    "    matt = a*t\n",
    "    exp = scipy.linalg.expm(matt)\n",
    "    norma = np.linalg.norm(exp,2)\n",
    "    y.append(norma)\n",
    "    x.append(t)\n",
    "    t = t+1\n",
    "# print(x)\n",
    "# print()\n",
    "# print(y)\n",
    "fig = plt.gcf()\n",
    "fig.set_size_inches(16, 8)\n",
    "plt.grid(axis = 'both')\n",
    "plt.xlim(-5,55)\n",
    "plt.ylim(-10000,300000)\n",
    "plt.scatter(x,y)\n"
   ]
  },
  {
   "cell_type": "code",
   "execution_count": 34,
   "metadata": {},
   "outputs": [
    {
     "data": {
      "image/png": "[encoded data removed]",
      "text/plain": [
       "<Figure size 432x288 with 1 Axes>"
      ]
     },
     "metadata": {
      "needs_background": "light"
     },
     "output_type": "display_data"
    },
    {
     "data": {
      "image/png": "[encoded data removed]",
      "text/plain": [
       "<Figure size 432x288 with 1 Axes>"
      ]
     },
     "metadata": {
      "needs_background": "light"
     },
     "output_type": "display_data"
    },
    {
     "ename": "KeyboardInterrupt",
     "evalue": "",
     "output_type": "error",
     "traceback": [
      "\u001b[1;31m---------------------------------------------------------------------------\u001b[0m",
      "\u001b[1;31mKeyboardInterrupt\u001b[0m                         Traceback (most recent call last)",
      "\u001b[1;32m<ipython-input-34-85e1f0e9fd4a>\u001b[0m in \u001b[0;36m<module>\u001b[1;34m\u001b[0m\n\u001b[0;32m     13\u001b[0m             \u001b[0mz\u001b[0m \u001b[1;33m=\u001b[0m \u001b[0mcomplex\u001b[0m\u001b[1;33m(\u001b[0m\u001b[0mx\u001b[0m\u001b[1;33m,\u001b[0m\u001b[0my\u001b[0m\u001b[1;33m)\u001b[0m\u001b[1;33m\u001b[0m\u001b[1;33m\u001b[0m\u001b[0m\n\u001b[0;32m     14\u001b[0m             \u001b[0mVozm\u001b[0m \u001b[1;33m=\u001b[0m \u001b[0mz\u001b[0m\u001b[1;33m*\u001b[0m\u001b[0mId\u001b[0m \u001b[1;33m-\u001b[0m \u001b[0ma\u001b[0m\u001b[1;33m\u001b[0m\u001b[1;33m\u001b[0m\u001b[0m\n\u001b[1;32m---> 15\u001b[1;33m             \u001b[0mu\u001b[0m\u001b[1;33m,\u001b[0m\u001b[0ms\u001b[0m\u001b[1;33m,\u001b[0m\u001b[0mvh\u001b[0m \u001b[1;33m=\u001b[0m \u001b[0mnp\u001b[0m\u001b[1;33m.\u001b[0m\u001b[0mlinalg\u001b[0m\u001b[1;33m.\u001b[0m\u001b[0msvd\u001b[0m\u001b[1;33m(\u001b[0m\u001b[0mVozm\u001b[0m\u001b[1;33m)\u001b[0m\u001b[1;33m\u001b[0m\u001b[1;33m\u001b[0m\u001b[0m\n\u001b[0m\u001b[0;32m     16\u001b[0m             \u001b[1;32mif\u001b[0m \u001b[1;33m(\u001b[0m\u001b[0mnp\u001b[0m\u001b[1;33m.\u001b[0m\u001b[0mmin\u001b[0m\u001b[1;33m(\u001b[0m\u001b[0ms\u001b[0m\u001b[1;33m)\u001b[0m\u001b[1;33m)\u001b[0m\u001b[1;33m**\u001b[0m\u001b[1;36m0.5\u001b[0m \u001b[1;33m<=\u001b[0m \u001b[0me\u001b[0m\u001b[1;33m:\u001b[0m\u001b[1;33m\u001b[0m\u001b[1;33m\u001b[0m\u001b[0m\n\u001b[0;32m     17\u001b[0m                 \u001b[0mRe\u001b[0m\u001b[1;33m.\u001b[0m\u001b[0mappend\u001b[0m\u001b[1;33m(\u001b[0m\u001b[0mx\u001b[0m\u001b[1;33m)\u001b[0m\u001b[1;33m\u001b[0m\u001b[1;33m\u001b[0m\u001b[0m\n",
      "\u001b[1;32m<__array_function__ internals>\u001b[0m in \u001b[0;36msvd\u001b[1;34m(*args, **kwargs)\u001b[0m\n",
      "\u001b[1;32m~\\anaconda3\\lib\\site-packages\\numpy\\linalg\\linalg.py\u001b[0m in \u001b[0;36msvd\u001b[1;34m(a, full_matrices, compute_uv, hermitian)\u001b[0m\n\u001b[0;32m   1624\u001b[0m \u001b[1;33m\u001b[0m\u001b[0m\n\u001b[0;32m   1625\u001b[0m         \u001b[0msignature\u001b[0m \u001b[1;33m=\u001b[0m \u001b[1;34m'D->DdD'\u001b[0m \u001b[1;32mif\u001b[0m \u001b[0misComplexType\u001b[0m\u001b[1;33m(\u001b[0m\u001b[0mt\u001b[0m\u001b[1;33m)\u001b[0m \u001b[1;32melse\u001b[0m \u001b[1;34m'd->ddd'\u001b[0m\u001b[1;33m\u001b[0m\u001b[1;33m\u001b[0m\u001b[0m\n\u001b[1;32m-> 1626\u001b[1;33m         \u001b[0mu\u001b[0m\u001b[1;33m,\u001b[0m \u001b[0ms\u001b[0m\u001b[1;33m,\u001b[0m \u001b[0mvh\u001b[0m \u001b[1;33m=\u001b[0m \u001b[0mgufunc\u001b[0m\u001b[1;33m(\u001b[0m\u001b[0ma\u001b[0m\u001b[1;33m,\u001b[0m \u001b[0msignature\u001b[0m\u001b[1;33m=\u001b[0m\u001b[0msignature\u001b[0m\u001b[1;33m,\u001b[0m \u001b[0mextobj\u001b[0m\u001b[1;33m=\u001b[0m\u001b[0mextobj\u001b[0m\u001b[1;33m)\u001b[0m\u001b[1;33m\u001b[0m\u001b[1;33m\u001b[0m\u001b[0m\n\u001b[0m\u001b[0;32m   1627\u001b[0m         \u001b[0mu\u001b[0m \u001b[1;33m=\u001b[0m \u001b[0mu\u001b[0m\u001b[1;33m.\u001b[0m\u001b[0mastype\u001b[0m\u001b[1;33m(\u001b[0m\u001b[0mresult_t\u001b[0m\u001b[1;33m,\u001b[0m \u001b[0mcopy\u001b[0m\u001b[1;33m=\u001b[0m\u001b[1;32mFalse\u001b[0m\u001b[1;33m)\u001b[0m\u001b[1;33m\u001b[0m\u001b[1;33m\u001b[0m\u001b[0m\n\u001b[0;32m   1628\u001b[0m         \u001b[0ms\u001b[0m \u001b[1;33m=\u001b[0m \u001b[0ms\u001b[0m\u001b[1;33m.\u001b[0m\u001b[0mastype\u001b[0m\u001b[1;33m(\u001b[0m\u001b[0m_realType\u001b[0m\u001b[1;33m(\u001b[0m\u001b[0mresult_t\u001b[0m\u001b[1;33m)\u001b[0m\u001b[1;33m,\u001b[0m \u001b[0mcopy\u001b[0m\u001b[1;33m=\u001b[0m\u001b[1;32mFalse\u001b[0m\u001b[1;33m)\u001b[0m\u001b[1;33m\u001b[0m\u001b[1;33m\u001b[0m\u001b[0m\n",
      "\u001b[1;31mKeyboardInterrupt\u001b[0m: "
     ]
    }
   ],
   "source": [
    "for i in range(1,5):\n",
    "    e = 10**(-i)\n",
    "    Id = np.zeros((32,32))\n",
    "    \n",
    "    for i in range(32):\n",
    "        Id [i,i] = 1\n",
    "        \n",
    "# print(len(a))\n",
    "# print()\n",
    "# print(len(z*Id))\n",
    "    for x in np.arange(-2,1,e):\n",
    "        for y in np.arange(-2,1.5,e):\n",
    "            z = complex(x,y)\n",
    "            Vozm = z*Id - a\n",
    "            u,s,vh = np.linalg.svd(Vozm)\n",
    "            if (np.min(s))**0.5 <= e:\n",
    "                Re.append(x)\n",
    "                Im.append(y)\n",
    "                absc.append(z)\n",
    "    ordin = np.arange(i)\n",
    "    plt.scatter(Re,Im)\n",
    "    plt.xlim(-2,1)\n",
    "    plt.ylim(-2.5,1.6)\n",
    "    plt.show()"
   ]
  },
  {
   "cell_type": "code",
   "execution_count": 22,
   "metadata": {},
   "outputs": [
    {
     "name": "stdout",
     "output_type": "stream",
     "text": [
      "\n",
      "[-2.12062643e-04  6.04162905e-05 -5.13314884e-05  1.89583876e-04\n",
      " -5.05078490e-04  1.94020297e-04 -1.60065388e-04  3.36211356e-04\n",
      " -1.35336855e-04  4.07771576e-04 -3.59109579e-04  2.94935718e-04\n",
      " -6.18556685e-04 -1.73105280e-04  7.03418281e-04 -2.11524670e-04\n",
      " -5.51075410e-04 -2.26730766e-05 -1.02996708e-04  4.58822741e-04\n",
      " -4.72742394e-04 -1.46953881e-05  7.39371837e-04  2.22429135e-04\n",
      " -2.91669796e-04 -4.17710739e-04 -1.20106973e-04  2.24005325e-03\n",
      " -1.25217847e-04 -2.98796494e-04 -9.58418622e-04  1.99684570e-04\n",
      "  4.51829842e-04  5.55233851e-04  1.55132750e-04  1.84015196e-03\n",
      " -7.71821860e-05 -1.57727333e-03 -7.92890709e-04 -1.52423592e-03\n",
      " -6.92011319e-04  3.26541842e-03  2.90827426e-04  2.77424251e-03\n",
      "  6.69468628e-04  4.65115937e-03 -5.70407632e-03 -8.03232699e-03\n",
      " -9.98820920e-04  9.99742073e-01  1.24517950e-02 -2.88791906e-04\n",
      " -7.54292762e-06 -2.25834326e-04 -1.99301283e-04 -9.60519370e-03\n",
      "  6.21682044e-03  6.07465362e-04  2.33728664e-04  4.86509648e-04\n",
      "  8.45300831e-05  1.55830400e-03  1.08949562e-03  4.07859018e-04\n",
      "  4.87472242e-05 -3.02913670e-03 -1.23078835e-03 -4.67956339e-04\n",
      " -9.67181470e-04 -2.98710544e-03  2.38288223e-04  1.95449063e-03\n",
      " -1.14910689e-03 -2.83821101e-03  1.77459905e-03  8.38737232e-05\n",
      " -5.98464963e-04 -3.72850739e-04 -1.10284286e-04  2.20914096e-03\n",
      "  1.77511972e-05 -2.80371904e-03 -3.31273137e-05 -9.12944907e-05\n",
      "  2.47279026e-04 -7.13926904e-04  5.86926859e-04  8.15722608e-05\n",
      " -2.70470464e-04  1.36542301e-03 -3.02467616e-03  8.05252488e-04\n",
      " -3.29765017e-04  3.88872293e-04 -1.56455810e-04  3.91198509e-04\n",
      " -7.88183128e-04  1.46239315e-03 -2.43243055e-04 -9.26944139e-04]\n",
      "\n",
      "-2.237253276860242\n"
     ]
    }
   ],
   "source": [
    "# Задача №6\n",
    "import numpy as np\n",
    "from numpy import linalg as LA\n",
    "import matplotlib.pyplot as plt\n",
    "\n",
    "n = 100\n",
    "u = np.random.normal(0,1,n)\n",
    "d = np.random.normal(0,1,n)\n",
    "\n",
    "u = u[:, np.newaxis] # Делаем из u вектор-столбец\n",
    "\n",
    "# Cоберем матрицу А\n",
    "A = (u @ u.T)/(u.T @ u) + np.diag(d)\n",
    "minsobstv = np.min(LA.eigvalsh(A)) # минимальное собственное число\n",
    "\n",
    "sys = LA.eigh(A)\n",
    "# print(sys[0])\n",
    "print()\n",
    "a = sys[:][:][1]\n",
    "sobvek = a[:][0] # собственный вектор, соответствующий минимальному собственному занчению\n",
    "print(sobvek)\n",
    "print()\n",
    "print(minsobstv)\n"
   ]
  },
  {
   "cell_type": "code",
   "execution_count": null,
   "metadata": {},
   "outputs": [],
   "source": [
    "n = 100000\n",
    "u = np.random.normal(0,1,n)\n",
    "d = np.random.normal(0,1,n)\n",
    "\n",
    "u = u[:, np.newaxis] # Делаем из u вектор-столбец\n",
    "\n",
    "# Cоберем матрицу А\n",
    "A = (u @ u.T)/(u.T @ u) + np.diag(d)\n",
    "minsobstv = np.min(LA.eigvalsh(A)) # минимальное собственное число\n",
    "\n",
    "sys = LA.eigh(A)\n",
    "# print(sys[0])\n",
    "print()\n",
    "a = sys[:][:][1]\n",
    "sobvek = a[:][0] # собственный вектор, соответствующий минимальному собственному занчению\n",
    "print(sobvek)\n",
    "print()\n",
    "print(minsobstv)"
   ]
  },
  {
   "cell_type": "code",
   "execution_count": null,
   "metadata": {},
   "outputs": [],
   "source": []
  },
  {
   "cell_type": "code",
   "execution_count": null,
   "metadata": {},
   "outputs": [],
   "source": []
  },
  {
   "cell_type": "code",
   "execution_count": null,
   "metadata": {},
   "outputs": [],
   "source": []
  },
  {
   "cell_type": "code",
   "execution_count": null,
   "metadata": {},
   "outputs": [],
   "source": []
  },
  {
   "cell_type": "code",
   "execution_count": null,
   "metadata": {},
   "outputs": [],
   "source": []
  }
 ],
 "metadata": {
  "kernelspec": {
   "display_name": "Python 3",
   "language": "python",
   "name": "python3"
  },
  "language_info": {
   "codemirror_mode": {
    "name": "ipython",
    "version": 3
   },
   "file_extension": ".py",
   "mimetype": "text/x-python",
   "name": "python",
   "nbconvert_exporter": "python",
   "pygments_lexer": "ipython3",
   "version": "3.8.3"
  }
 },
 "nbformat": 4,
 "nbformat_minor": 4
}

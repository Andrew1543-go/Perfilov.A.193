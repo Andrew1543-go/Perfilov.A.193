{
 "cells": [
  {
   "cell_type": "code",
   "execution_count": 16,
   "metadata": {},
   "outputs": [
    {
     "name": "stdout",
     "output_type": "stream",
     "text": [
      "100\n",
      "100\n"
     ]
    },
    {
     "data": {
      "text/plain": [
       "array([[ 1.22450879,  0.7462674 ,  0.54662752, ...,  1.22311088,\n",
       "         0.74818344, -2.03449177],\n",
       "       [ 0.25453693,  0.06150432, -0.27249768, ...,  0.69402938,\n",
       "         0.26236414, -0.91715446],\n",
       "       [-0.83228098, -0.10964981, -0.96423812, ...,  0.7758173 ,\n",
       "         0.03162478, -0.17374104],\n",
       "       ...,\n",
       "       [-0.12026629,  0.25766919, -0.20744153, ..., -0.72253235,\n",
       "        -0.09154198,  0.99088479],\n",
       "       [ 0.73862838,  0.11129526,  1.11607073, ..., -0.076602  ,\n",
       "         0.32461664, -0.63726517],\n",
       "       [ 0.15609626, -0.13953967,  0.84589031, ..., -0.79956829,\n",
       "        -0.08469749,  0.57327645]])"
      ]
     },
     "execution_count": 16,
     "metadata": {},
     "output_type": "execute_result"
    }
   ],
   "source": [
    "#Задача №6\n",
    "import numpy as np\n",
    "\n",
    "p = int(input())\n",
    "k = int(input())\n",
    "x = np.random.random(p).reshape(p,1)\n",
    "y = np.eye(p) #единичная матрица размером рхр\n",
    "a = y * x\n",
    "u = np.random.random((p,k))\n",
    "v = np.random.random((k,p))\n",
    "c = np.eye(k)\n",
    "\n",
    "\n",
    "\n",
    "def woodbury(a, u, v):\n",
    "    a1 = np.linalg.inv(a) #строим обратную матрицу\n",
    "    f = np.linalg.inv(c + v @ a1 @ u)\n",
    "    return a1 - a1 @ u @ f @ v @ a1\n",
    "woodbury(a, u, v)\n",
    "\n",
    "\n",
    "\n",
    "\n",
    "def realwoodbury(a, u, v):\n",
    "    return np.linalg.inv(a + u @ v)\n",
    "\n",
    "\n",
    "\n",
    "\n",
    "realwoodbury(a, u, v)"
   ]
  },
  {
   "cell_type": "code",
   "execution_count": 41,
   "metadata": {},
   "outputs": [
    {
     "name": "stdout",
     "output_type": "stream",
     "text": [
      "[[1. 0.]\n",
      " [0. 1.]] [[ 1.  0.]\n",
      " [-0. -1.]]\n"
     ]
    }
   ],
   "source": [
    "#Задача 3\n",
    "import numpy as np\n",
    "import matplotlib\n",
    "A = np.array([[3,0], [0,-2]])\n",
    "Lv, Sig, Rv = np.linalg.svd(A)\n",
    "print(Lv, Rv)\n"
   ]
  },
  {
   "cell_type": "code",
   "execution_count": 2,
   "metadata": {},
   "outputs": [
    {
     "name": "stdout",
     "output_type": "stream",
     "text": [
      "[[ 0.70710678 -0.70710678]\n",
      " [ 0.70710678  0.70710678]]\n",
      "[[2.00000000e+00 0.00000000e+00]\n",
      " [0.00000000e+00 2.10734243e-08]]\n",
      "[[ 0.70710678 -0.70710678]\n",
      " [ 0.70710678  0.70710678]]\n"
     ]
    }
   ],
   "source": [
    "#Задача 2в)\n",
    "import numpy as np\n",
    "import matplotlib\n",
    "A = np.array([[1,1], [1,1]])\n",
    "At = np.transpose(A)\n",
    "B = np.matmul(A, At)\n",
    "C = np.matmul(At, A)\n",
    "D = np.linalg.eig(B)\n",
    "#SCH,\n",
    "U = np.linalg.eig(B)\n",
    "E = np.linalg.eig(C)\n",
    "U = D[1]\n",
    "V = E[1]\n",
    "SCH = D[0]\n",
    "Sig = np.array([[SCH[0]**0.5, 0], [0, SCH[1]**0.5]])\n",
    "print(U)\n",
    "print(Sig)\n",
    "print(V)\n"
   ]
  },
  {
   "cell_type": "code",
   "execution_count": 3,
   "metadata": {},
   "outputs": [
    {
     "name": "stdout",
     "output_type": "stream",
     "text": [
      "[[1. 0. 0. 0.]\n",
      " [0. 1. 0. 0.]\n",
      " [0. 0. 1. 0.]\n",
      " [0. 0. 0. 1.]]\n",
      "[[2. 0. 0. 0.]\n",
      " [0. 0. 0. 0.]\n",
      " [0. 0. 0. 0.]\n",
      " [0. 0. 0. 0.]]\n",
      "[[1. 0.]\n",
      " [0. 1.]]\n"
     ]
    }
   ],
   "source": [
    "#Задача 2б)\n",
    "import numpy as np\n",
    "import matplotlib\n",
    "A = np.array([[0,2], [0,0], [0,0], [0,0]])\n",
    "At = np.transpose(A)\n",
    "B = np.matmul(A, At)\n",
    "C = np.matmul(At, A)\n",
    "D = np.linalg.eig(B)\n",
    "#SCH,\n",
    "U = np.linalg.eig(B)\n",
    "E = np.linalg.eig(C)\n",
    "U = D[1]\n",
    "V = E[1]\n",
    "SCH = D[0]\n",
    "Sig = np.array([[SCH[0]**0.5, 0, 0, 0], [0, SCH[1]**0.5, 0, 0], [0, 0, SCH[2]**0.5, 0], [0, 0, 0, SCH[3]**0.5]])\n",
    "print(U)\n",
    "print(Sig)\n",
    "print(V)"
   ]
  },
  {
   "cell_type": "code",
   "execution_count": 4,
   "metadata": {},
   "outputs": [
    {
     "name": "stdout",
     "output_type": "stream",
     "text": [
      "[[1. 0.]\n",
      " [0. 1.]]\n",
      "[[3. 0.]\n",
      " [0. 2.]]\n",
      "[[1. 0.]\n",
      " [0. 1.]]\n"
     ]
    }
   ],
   "source": [
    "#Задача 2а)\n",
    "import numpy as np\n",
    "import matplotlib\n",
    "A = np.array([[3,0], [0,-2]])\n",
    "At = np.transpose(A)\n",
    "B = np.matmul(A, At)\n",
    "C = np.matmul(At, A)\n",
    "D = np.linalg.eig(B)\n",
    "#SCH,\n",
    "U = np.linalg.eig(B)\n",
    "E = np.linalg.eig(C)\n",
    "U = D[1]\n",
    "V = E[1]\n",
    "SCH = D[0]\n",
    "Sig = np.array([[(SCH[0])**0.5, 0], [0, (SCH[1])**0.5]])\n",
    "print(U)\n",
    "print(Sig)\n",
    "print(V)"
   ]
  },
  {
   "cell_type": "code",
   "execution_count": 27,
   "metadata": {},
   "outputs": [
    {
     "name": "stdout",
     "output_type": "stream",
     "text": [
      "[[0.69896962 0.         0.         ... 0.         0.         0.        ]\n",
      " [0.         0.72666686 0.         ... 0.         0.         0.        ]\n",
      " [0.         0.         0.12139078 ... 0.         0.         0.        ]\n",
      " ...\n",
      " [0.         0.         0.         ... 0.3025297  0.         0.        ]\n",
      " [0.         0.         0.         ... 0.         0.91446233 0.        ]\n",
      " [0.         0.         0.         ... 0.         0.         0.64694378]]\n"
     ]
    }
   ],
   "source": [
    "def re_m(L, U, P):\n",
    "    return L @ U @ np.linalg.inv(P)\n",
    "\n",
    "\n",
    "\n",
    "def diy_LU_v3(a):\n",
    "    N = a.shape[0]\n",
    "    U = a.copy()\n",
    "    P = np.eye(N)\n",
    "    L = np.eye(N)\n",
    "    for k in range(0, N - 1):\n",
    "        max_element = k + np.argmax(abs(U[k:, k]))\n",
    "        if max_element != k:\n",
    "            P_temp = np.eye(N)\n",
    "            P_temp[k,k], P_temp[max_element,max_el] = 0, 0\n",
    "            P_temp[k,max_element], P_temp[max_element,k] = 1, 1\n",
    "            P = P_temp @ P\n",
    "            L = P_temp @ L\n",
    "            U = P_temp @ U\n",
    "            lam = np.eye(N)\n",
    "            gamma = U[k+1:, k] / U[k, k]\n",
    "            lam[k+1:, k] = -gamma\n",
    "            U = lam @ U\n",
    "            L = lam @ L\n",
    "            L = np.linalg.inv(L @ np.linalg.inv(P))\n",
    "            return P, L, U\n",
    "        np.set_printoptions(precision=3)\n",
    "        P, L, U = diy_LU_v3(a1)\n",
    "        print (P, \"\\n\"*2, L, \"\\n\"*2, U, \"\\n\")\n",
    "        print(L @ U - P @ a1, \"\\n\")\n",
    "        print (restore_matrix(L, U, P), \"\\n\")\n",
    "        print (a1)\n",
    "        \n",
    "        \n",
    "        \n",
    "        \n",
    "\n",
    "        print (P, \"\\n\"*2, L, \"\\n\"*2, U, \"\\n\")\n",
    "        print(L @ U - P @ a, \"\\n\")\n",
    "        print (restore_m(L, U, P), \"\\n\")\n",
    "print (a)\n"
   ]
  },
  {
   "cell_type": "code",
   "execution_count": 39,
   "metadata": {},
   "outputs": [
    {
     "name": "stdout",
     "output_type": "stream",
     "text": [
      "[[-2.35052831  0.00583502  0.07011154 ... -0.04685968  0.05746135\n",
      "   0.19112226]\n",
      " [ 0.00583502  0.92307824 -0.24019295 ...  0.22184628 -0.04859622\n",
      "  -0.13804588]\n",
      " [ 0.07011154 -0.24019295  0.49952314 ...  0.83482591 -0.1936324\n",
      "   0.11816764]\n",
      " ...\n",
      " [-0.04685968  0.22184628  0.83482591 ...  0.25716923  0.19339463\n",
      "  -0.22640378]\n",
      " [ 0.05746135 -0.04859622 -0.1936324  ...  0.19339463  0.48594789\n",
      "   0.03791837]\n",
      " [ 0.19112226 -0.13804588  0.11816764 ... -0.22640378  0.03791837\n",
      "  -4.47582325]]\n"
     ]
    }
   ],
   "source": [
    "#Задача 5, первый вариант\n",
    "def woodbury_einsum(A, U, V, k):\n",
    "    A_inv = np.diag(1./np.diag(A))\n",
    "    tmp   = np.einsum('ab,bc,cd->ad',\n",
    "                      V, A_inv, U,\n",
    "                      optimize=['einsum_path', (1, 2), (0, 1)])\n",
    "    B_inv = np.linalg.inv(np.eye(k) + tmp)\n",
    "    tmp   = np.einsum('ab,bc,cd,de,ef->af',\n",
    "                      A_inv, U, B_inv, V, A_inv,\n",
    "                      optimize=['einsum_path', (0, 1), (0, 1), (0, 2), (0, 1)])\n",
    "    return A_inv - tmp\n",
    "print(woodbury_einsum(A, U, V, k))"
   ]
  },
  {
   "cell_type": "code",
   "execution_count": 37,
   "metadata": {},
   "outputs": [
    {
     "name": "stdout",
     "output_type": "stream",
     "text": [
      "[[ 6.09836199e-01 -5.96512546e-03  1.28851077e-01 ...  3.78928892e-02\n",
      "  -1.75624997e-01 -3.84817962e-01]\n",
      " [-5.96512546e-03  3.50436611e+01  3.47220539e-01 ... -2.24513746e-02\n",
      "   4.91687180e+00  3.95479625e+00]\n",
      " [ 1.28851077e-01  3.47220539e-01 -5.43531813e-01 ...  3.62740235e-01\n",
      "  -1.44507153e+00 -3.03482081e+00]\n",
      " ...\n",
      " [ 3.78928892e-02 -2.24513746e-02  3.62740235e-01 ...  7.65887319e-01\n",
      "  -3.29868924e-01 -6.32416895e-01]\n",
      " [-1.75624997e-01  4.91687180e+00 -1.44507153e+00 ... -3.29868924e-01\n",
      "  -3.23071041e-01  2.67400486e+00]\n",
      " [-3.84817962e-01  3.95479625e+00 -3.03482081e+00 ... -6.32416895e-01\n",
      "   2.67400486e+00  6.98421584e+00]]\n"
     ]
    }
   ],
   "source": [
    "#Вариант номер 2\n",
    "def woodbury(A, U, V, k):\n",
    "    A_inv = np.diag(1./np.diag(A))  # Fast matrix inversion of a diagonal.\n",
    "    B_inv = np.linalg.inv(np.eye(k) + V @ A_inv @ U)\n",
    "    return A_inv - (A_inv @ U @ B_inv @ V @ A_inv)\n",
    "n = 100000\n",
    "p = 1000\n",
    "k = 100\n",
    "A = np.diag(np.random.randn(p))\n",
    "U = np.random.randn(p, k)\n",
    "V = U.T\n",
    "M = U @ V + A\n",
    "M_inv = woodbury(A, U, V, k)\n",
    "assert np.allclose(M @ M_inv, np.eye(p))\n",
    "print(woodbury(A, U, V, k))\n"
   ]
  },
  {
   "cell_type": "code",
   "execution_count": 120,
   "metadata": {},
   "outputs": [
    {
     "name": "stdout",
     "output_type": "stream",
     "text": [
      "[[1. 0.]\n",
      " [0. 1.]]\n"
     ]
    },
    {
     "data": {
      "image/png": "[encoded data removed]",
      "text/plain": [
       "<Figure size 432x288 with 1 Axes>"
      ]
     },
     "metadata": {
      "needs_background": "light"
     },
     "output_type": "display_data"
    }
   ],
   "source": [
    "#задача 3а\n",
    "import matplotlib.pyplot as plt\n",
    "import numpy as np\n",
    "import matplotlib\n",
    "\n",
    "A = np.array([[3,0], [0,-2]])\n",
    "M = np.linalg.svd(A)\n",
    "print(Lv)\n",
    "\n",
    "\n",
    "# встроенная функция\n",
    "circle1 = plt.Circle((0, 0), 1, color='r', fill=False)\n",
    "\n",
    "ax=plt.gca()\n",
    "ax.add_patch(circle1)\n",
    "plt.axis('scaled')\n",
    "fig = plt.gcf()\n",
    "plt.grid(axis = 'both')\n",
    "\n",
    "\n",
    "mx = [0, 1]\n",
    "my = [0, 0]\n",
    "mx1 = [0, 0]\n",
    "my1 = [0, 1]\n",
    "plt.plot(mx, my)\n",
    "plt.plot(mx1, my1)\n",
    "fig = plt.gcf()\n",
    " \n",
    "plt.show()\n",
    "\n",
    "    "
   ]
  },
  {
   "cell_type": "code",
   "execution_count": 136,
   "metadata": {},
   "outputs": [
    {
     "name": "stdout",
     "output_type": "stream",
     "text": [
      "[[ 1.  0.]\n",
      " [-0. -1.]]\n"
     ]
    },
    {
     "data": {
      "image/png": "[encoded data removed]",
      "text/plain": [
       "<Figure size 432x288 with 1 Axes>"
      ]
     },
     "metadata": {
      "needs_background": "light"
     },
     "output_type": "display_data"
    }
   ],
   "source": [
    "from matplotlib.patches import Ellipse\n",
    "\n",
    "\n",
    "import matplotlib.pyplot as plt\n",
    "import numpy as np\n",
    "import matplotlib\n",
    "\n",
    "A = np.array([[3,0], [0,-2]])\n",
    "Lv, Sig, Rv = np.linalg.svd(A)\n",
    "print(Rv)\n",
    "mx = [0, 1]\n",
    "my = [0, 0]\n",
    "mx1 = [0, 0]\n",
    "my1 = [0, -1]\n",
    "\n",
    "\n",
    "plt.figure()\n",
    "ax = plt.gca()\n",
    "ellipse = Ellipse(xy=(0, 0), width=2, height=1, edgecolor='r', fc='None', lw=2)\n",
    "fig = plt.gcf()\n",
    "ax.add_patch(ellipse)\n",
    "plt.axis('scaled')\n",
    "plt.grid(axis = 'both')\n",
    "plt.plot(mx, my)\n",
    "plt.plot(mx1, my1)\n",
    "plt.show()"
   ]
  },
  {
   "cell_type": "code",
   "execution_count": null,
   "metadata": {},
   "outputs": [],
   "source": []
  }
 ],
 "metadata": {
  "kernelspec": {
   "display_name": "Python 3",
   "language": "python",
   "name": "python3"
  },
  "language_info": {
   "codemirror_mode": {
    "name": "ipython",
    "version": 3
   },
   "file_extension": ".py",
   "mimetype": "text/x-python",
   "name": "python",
   "nbconvert_exporter": "python",
   "pygments_lexer": "ipython3",
   "version": "3.8.3"
  }
 },
 "nbformat": 4,
 "nbformat_minor": 4
}

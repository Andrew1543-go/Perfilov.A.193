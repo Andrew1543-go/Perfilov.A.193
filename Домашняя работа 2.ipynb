{
 "cells": [
  {
   "cell_type": "code",
   "execution_count": 1,
   "metadata": {},
   "outputs": [
    {
     "name": "stdout",
     "output_type": "stream",
     "text": [
      "10\n",
      "3\n"
     ]
    },
    {
     "data": {
      "text/plain": [
       "array([[ 2.00304899e+00,  5.33602285e-01, -1.28155939e-01,\n",
       "        -6.80939486e-02,  2.23965099e-01, -2.87684407e+00,\n",
       "         1.08757997e+00,  1.05760303e+00,  5.20478983e-01,\n",
       "        -8.86560166e-01],\n",
       "       [-2.30420833e-01,  3.97331069e+00, -3.08421826e-01,\n",
       "        -2.02719736e-01,  8.53469416e-01, -7.88054522e+00,\n",
       "         3.07659434e+00,  3.63992135e+00,  1.26869196e+00,\n",
       "        -2.03844242e+00],\n",
       "       [-7.44006525e-01,  1.11992745e+00,  2.06316146e+00,\n",
       "        -7.23632374e-02, -3.36750198e-01, -1.03061572e+00,\n",
       "         1.69048616e+00, -3.78851775e-01,  1.44583201e+00,\n",
       "        -2.84268891e+00],\n",
       "       [ 1.40916457e-01, -3.65761910e-01,  9.73426137e-02,\n",
       "         3.18781932e+00, -7.41531627e-02, -6.35430465e-01,\n",
       "        -6.86487029e-01, -4.66938416e-01, -3.92295897e-01,\n",
       "         7.04576854e-01],\n",
       "       [-3.08107164e+00,  1.28225709e+01, -3.00982621e+00,\n",
       "        -1.67404940e+00,  1.11281328e+01, -5.11419225e+01,\n",
       "         2.65339279e+01,  2.71755430e+01,  1.22720950e+01,\n",
       "        -2.06324195e+01],\n",
       "       [ 8.94041331e-01, -2.39941801e+00, -6.59886122e-01,\n",
       "        -5.03177982e+00, -2.58019157e+00,  5.25087165e+00,\n",
       "        -2.14024549e+00,  2.50678244e+00, -5.58453226e+00,\n",
       "         3.52471262e+00],\n",
       "       [-1.72124627e+00,  3.25592865e+00, -9.71549630e-01,\n",
       "        -2.80340535e-01, -1.83939787e-01, -8.79714910e+00,\n",
       "         1.22740890e+01,  1.46034081e+00,  3.85479789e+00,\n",
       "        -7.29664248e+00],\n",
       "       [ 3.02171195e+00, -1.88095333e+01,  4.08296886e+00,\n",
       "         2.68063559e+00, -1.14085114e+01,  6.94226879e+01,\n",
       "        -4.08968716e+01, -3.14818373e+01, -1.68269980e+01,\n",
       "         2.69819184e+01],\n",
       "       [ 1.56749925e+00, -4.07878075e+00,  1.08587553e+00,\n",
       "         4.36934320e-01, -8.32046720e-01,  3.31107683e+00,\n",
       "        -7.66280320e+00, -5.23526143e+00,  3.53644051e+00,\n",
       "         7.84944157e+00],\n",
       "       [ 6.80485633e-01, -7.49010004e+00,  1.51097971e+00,\n",
       "         1.15021247e+00, -5.48383395e+00,  3.44549896e+01,\n",
       "        -1.69763218e+01, -2.23592001e+01, -6.28810948e+00,\n",
       "         1.49767140e+01]])"
      ]
     },
     "execution_count": 1,
     "metadata": {},
     "output_type": "execute_result"
    }
   ],
   "source": [
    "#Задача №6\n",
    "import numpy as np\n",
    "\n",
    "p = int(input())\n",
    "k = int(input())\n",
    "x = np.random.random(p).reshape(p,1)\n",
    "y = np.eye(p) #единичная матрица размером рхр\n",
    "a = y * x\n",
    "u = np.random.random((p,k))\n",
    "v = np.random.random((k,p))\n",
    "c = np.eye(k)\n",
    "\n",
    "\n",
    "\n",
    "def woodbury(a, u, v):\n",
    "    a1 = np.linalg.inv(a) #строим обратную матрицу\n",
    "    f = np.linalg.inv(c + v @ a1 @ u)\n",
    "    return a1 - a1 @ u @ f @ v @ a1\n",
    "woodbury(a, u, v)\n",
    "def realwoodbury(a, u, v):\n",
    "    return np.linalg.inv(a + u @ v)\n",
    "\n",
    "\n",
    "\n",
    "\n",
    "realwoodbury(a, u, v)"
   ]
  },
  {
   "cell_type": "code",
   "execution_count": null,
   "metadata": {},
   "outputs": [],
   "source": [
    "#Задача 3\n",
    "import numpy as np\n",
    "import matplotlib\n",
    "A = np.array([[3,0], [0,-2]])\n",
    "Lv, Sig, Rv = np.linalg.svd(A)\n",
    "print(Lv, Rv)"
   ]
  },
  {
   "cell_type": "code",
   "execution_count": 2,
   "metadata": {},
   "outputs": [
    {
     "name": "stdout",
     "output_type": "stream",
     "text": [
      "[[ 0.70710678 -0.70710678]\n",
      " [ 0.70710678  0.70710678]]\n",
      "[[2.00000000e+00 0.00000000e+00]\n",
      " [0.00000000e+00 2.10734243e-08]]\n",
      "[[ 0.70710678 -0.70710678]\n",
      " [ 0.70710678  0.70710678]]\n"
     ]
    }
   ],
   "source": [
    "#Задача 2в)\n",
    "import numpy as np\n",
    "import matplotlib\n",
    "A = np.array([[1,1], [1,1]])\n",
    "At = np.transpose(A)\n",
    "B = np.matmul(A, At)\n",
    "C = np.matmul(At, A)\n",
    "D = np.linalg.eig(B)\n",
    "#SCH,\n",
    "U = np.linalg.eig(B)\n",
    "E = np.linalg.eig(C)\n",
    "U = D[1]\n",
    "V = E[1]\n",
    "SCH = D[0]\n",
    "Sig = np.array([[SCH[0]**0.5, 0], [0, SCH[1]**0.5]])\n",
    "print(U)\n",
    "print(Sig)\n",
    "print(V)\n"
   ]
  },
  {
   "cell_type": "code",
   "execution_count": 3,
   "metadata": {},
   "outputs": [
    {
     "name": "stdout",
     "output_type": "stream",
     "text": [
      "[[1. 0. 0. 0.]\n",
      " [0. 1. 0. 0.]\n",
      " [0. 0. 1. 0.]\n",
      " [0. 0. 0. 1.]]\n",
      "[[2. 0. 0. 0.]\n",
      " [0. 0. 0. 0.]\n",
      " [0. 0. 0. 0.]\n",
      " [0. 0. 0. 0.]]\n",
      "[[1. 0.]\n",
      " [0. 1.]]\n"
     ]
    }
   ],
   "source": [
    "#Задача 2б)\n",
    "import numpy as np\n",
    "import matplotlib\n",
    "A = np.array([[0,2], [0,0], [0,0], [0,0]])\n",
    "At = np.transpose(A)\n",
    "B = np.matmul(A, At)\n",
    "C = np.matmul(At, A)\n",
    "D = np.linalg.eig(B)\n",
    "#SCH,\n",
    "U = np.linalg.eig(B)\n",
    "E = np.linalg.eig(C)\n",
    "U = D[1]\n",
    "V = E[1]\n",
    "SCH = D[0]\n",
    "Sig = np.array([[SCH[0]**0.5, 0, 0, 0], [0, SCH[1]**0.5, 0, 0], [0, 0, SCH[2]**0.5, 0], [0, 0, 0, SCH[3]**0.5]])\n",
    "print(U)\n",
    "print(Sig)\n",
    "print(V)"
   ]
  },
  {
   "cell_type": "code",
   "execution_count": 4,
   "metadata": {},
   "outputs": [
    {
     "name": "stdout",
     "output_type": "stream",
     "text": [
      "[[1. 0.]\n",
      " [0. 1.]]\n",
      "[[3. 0.]\n",
      " [0. 2.]]\n",
      "[[1. 0.]\n",
      " [0. 1.]]\n"
     ]
    }
   ],
   "source": [
    "#Задача 2а)\n",
    "import numpy as np\n",
    "import matplotlib\n",
    "A = np.array([[3,0], [0,-2]])\n",
    "At = np.transpose(A)\n",
    "B = np.matmul(A, At)\n",
    "C = np.matmul(At, A)\n",
    "D = np.linalg.eig(B)\n",
    "#SCH,\n",
    "U = np.linalg.eig(B)\n",
    "E = np.linalg.eig(C)\n",
    "U = D[1]\n",
    "V = E[1]\n",
    "SCH = D[0]\n",
    "Sig = np.array([[(SCH[0])**0.5, 0], [0, (SCH[1])**0.5]])\n",
    "print(U)\n",
    "print(Sig)\n",
    "print(V)"
   ]
  },
  {
   "cell_type": "code",
   "execution_count": null,
   "metadata": {},
   "outputs": [],
   "source": []
  }
 ],
 "metadata": {
  "kernelspec": {
   "display_name": "Python 3",
   "language": "python",
   "name": "python3"
  },
  "language_info": {
   "codemirror_mode": {
    "name": "ipython",
    "version": 3
   },
   "file_extension": ".py",
   "mimetype": "text/x-python",
   "name": "python",
   "nbconvert_exporter": "python",
   "pygments_lexer": "ipython3",
   "version": "3.8.3"
  }
 },
 "nbformat": 4,
 "nbformat_minor": 4
}
